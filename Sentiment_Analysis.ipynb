{
 "cells": [
  {
   "cell_type": "code",
   "execution_count": null,
   "metadata": {},
   "outputs": [],
   "source": [
    "PATH = '/../Twitter_Climate_Change_Dataset/twitter_sentiment_data.csv'\n",
    "\n",
    "label = [-1, 0, 1, 2]\n",
    "labelN = [\"Anti\", \"Neutral\", \"Pro\", \"News\"]\n",
    "labelDesc = [\n",
    "    \"the tweet does not believe in man-made climate change\"\n",
    "    , \"the tweet neither supports nor refutes the belief of man-made climate change\"\n",
    "    , \"the tweet supports the belief of man-made climate change\"\n",
    "    , \"the tweet links to factual news about climate change\"\n",
    "]"
   ]
  }
 ],
 "metadata": {
  "language_info": {
   "name": "python"
  },
  "orig_nbformat": 4
 },
 "nbformat": 4,
 "nbformat_minor": 2
}
