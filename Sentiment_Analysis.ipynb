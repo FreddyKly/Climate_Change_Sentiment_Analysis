{
 "cells": [
  {
   "attachments": {},
   "cell_type": "markdown",
   "metadata": {},
   "source": [
    "# Process Data"
   ]
  },
  {
   "attachments": {},
   "cell_type": "markdown",
   "metadata": {},
   "source": [
    "## Load Data"
   ]
  },
  {
   "cell_type": "code",
   "execution_count": 2,
   "metadata": {},
   "outputs": [
    {
     "data": {
      "text/html": [
       "<div>\n",
       "<style scoped>\n",
       "    .dataframe tbody tr th:only-of-type {\n",
       "        vertical-align: middle;\n",
       "    }\n",
       "\n",
       "    .dataframe tbody tr th {\n",
       "        vertical-align: top;\n",
       "    }\n",
       "\n",
       "    .dataframe thead th {\n",
       "        text-align: right;\n",
       "    }\n",
       "</style>\n",
       "<table border=\"1\" class=\"dataframe\">\n",
       "  <thead>\n",
       "    <tr style=\"text-align: right;\">\n",
       "      <th></th>\n",
       "      <th>sentiment</th>\n",
       "      <th>message</th>\n",
       "      <th>tweetid</th>\n",
       "    </tr>\n",
       "  </thead>\n",
       "  <tbody>\n",
       "    <tr>\n",
       "      <th>0</th>\n",
       "      <td>-1</td>\n",
       "      <td>@tiniebeany climate change is an interesting h...</td>\n",
       "      <td>792927353886371840</td>\n",
       "    </tr>\n",
       "    <tr>\n",
       "      <th>1</th>\n",
       "      <td>1</td>\n",
       "      <td>RT @NatGeoChannel: Watch #BeforeTheFlood right...</td>\n",
       "      <td>793124211518832641</td>\n",
       "    </tr>\n",
       "    <tr>\n",
       "      <th>2</th>\n",
       "      <td>1</td>\n",
       "      <td>Fabulous! Leonardo #DiCaprio's film on #climat...</td>\n",
       "      <td>793124402388832256</td>\n",
       "    </tr>\n",
       "    <tr>\n",
       "      <th>3</th>\n",
       "      <td>1</td>\n",
       "      <td>RT @Mick_Fanning: Just watched this amazing do...</td>\n",
       "      <td>793124635873275904</td>\n",
       "    </tr>\n",
       "    <tr>\n",
       "      <th>4</th>\n",
       "      <td>2</td>\n",
       "      <td>RT @cnalive: Pranita Biswasi, a Lutheran from ...</td>\n",
       "      <td>793125156185137153</td>\n",
       "    </tr>\n",
       "  </tbody>\n",
       "</table>\n",
       "</div>"
      ],
      "text/plain": [
       "   sentiment                                            message  \\\n",
       "0         -1  @tiniebeany climate change is an interesting h...   \n",
       "1          1  RT @NatGeoChannel: Watch #BeforeTheFlood right...   \n",
       "2          1  Fabulous! Leonardo #DiCaprio's film on #climat...   \n",
       "3          1  RT @Mick_Fanning: Just watched this amazing do...   \n",
       "4          2  RT @cnalive: Pranita Biswasi, a Lutheran from ...   \n",
       "\n",
       "              tweetid  \n",
       "0  792927353886371840  \n",
       "1  793124211518832641  \n",
       "2  793124402388832256  \n",
       "3  793124635873275904  \n",
       "4  793125156185137153  "
      ]
     },
     "execution_count": 2,
     "metadata": {},
     "output_type": "execute_result"
    }
   ],
   "source": [
    "import pandas as pd\n",
    "\n",
    "PATH = '../Twitter_Climate_Change_Dataset/twitter_sentiment_data.csv'\n",
    "df = pd.read_csv(PATH)\n",
    "df.head()"
   ]
  },
  {
   "attachments": {},
   "cell_type": "markdown",
   "metadata": {},
   "source": [
    "Seperate Messages from the rest of the data, for NLP"
   ]
  },
  {
   "cell_type": "code",
   "execution_count": 18,
   "metadata": {},
   "outputs": [],
   "source": [
    "sMessages = df['message']"
   ]
  },
  {
   "attachments": {},
   "cell_type": "markdown",
   "metadata": {},
   "source": [
    "## Plot Data"
   ]
  },
  {
   "cell_type": "code",
   "execution_count": 4,
   "metadata": {},
   "outputs": [
    {
     "data": {
      "image/png": "[encoded data removed]",
      "text/plain": [
       "<Figure size 360x360 with 1 Axes>"
      ]
     },
     "metadata": {},
     "output_type": "display_data"
    }
   ],
   "source": [
    "import matplotlib.pyplot as plt\n",
    "\n",
    "plt.figure(figsize = (5, 5))\n",
    "plt.pie(df.sentiment.value_counts().values, labels = ['Pro (1)', 'News (2)', 'Neutral (0)', 'Anti (-1)'], autopct = '%.2f%%', textprops={'fontsize': 15})\n",
    "plt.title('Sentiment Distribution of the Tweet Dataset', fontsize=20)\n",
    "plt.tight_layout()\n",
    "plt.show()"
   ]
  },
  {
   "attachments": {},
   "cell_type": "markdown",
   "metadata": {},
   "source": [
    "# Pre-Processing"
   ]
  },
  {
   "attachments": {},
   "cell_type": "markdown",
   "metadata": {},
   "source": [
    "## Data Cleaning"
   ]
  },
  {
   "attachments": {},
   "cell_type": "markdown",
   "metadata": {},
   "source": [
    "Tweets often times have a lot of content that is not important for the meaning of the Tweet but rather for its operation within Twitter. Those can be things like the retweet-symbol (\"RT\") or the authors username. Those informations could be unimportant and there might want to be removed.\n",
    "Things that will be removed by this function:\n",
    "- Retweet-markers (The part of the tweet that looks like 'RT @Username: [...]')\n",
    "- Twitter usernames (The part of the tweet that looks like '[...] @username [...]')\n",
    "\n",
    "Hashtags will NOT be removed since they can hold important information about the content and sentiment of the tweet."
   ]
  },
  {
   "cell_type": "code",
   "execution_count": 17,
   "metadata": {},
   "outputs": [
    {
     "name": "stdout",
     "output_type": "stream",
     "text": [
      "0     climate change is an interesting hustle as it...\n",
      "1    Watch #BeforeTheFlood right here, as  travels ...\n",
      "2    Fabulous! Leonardo #DiCaprio's film on #climat...\n",
      "3    Just watched this amazing documentary by leona...\n",
      "4    Pranita Biswasi, a Lutheran from Odisha, gives...\n",
      "Name: message, dtype: object\n"
     ]
    }
   ],
   "source": [
    "import re \n",
    "\n",
    "def removeTwitterContent(text):\n",
    "    '''\n",
    "    Clean the Text of ReTweet-symbols and usernames\n",
    "    '''\n",
    "    rt_removed_text = re.sub(r'RT @\\w+: ', '', text)\n",
    "    twitter_cleaned_text = re.sub(r'@\\w+', '', rt_removed_text)\n",
    "    return twitter_cleaned_text\n",
    "\n",
    "sTwitter_cleansed = sMessages.apply(lambda x: removeTwitterContent(x))\n",
    "print(sTwitter_cleansed.head())"
   ]
  },
  {
   "cell_type": "code",
   "execution_count": null,
   "metadata": {},
   "outputs": [],
   "source": [
    "def removeStopwordsPunctuation(text):\n",
    "    '''\n",
    "    Clean the text of Stopwords and punctuation\n",
    "    '''"
   ]
  },
  {
   "cell_type": "code",
   "execution_count": null,
   "metadata": {},
   "outputs": [],
   "source": [
    "def lemmatizeWords(text):\n",
    "    '''\n",
    "    Lemmatize the text that is put in\n",
    "    '''"
   ]
  },
  {
   "cell_type": "code",
   "execution_count": 2,
   "metadata": {},
   "outputs": [],
   "source": [
    "import nltk\n",
    "from nltk.corpus import wordnet\n",
    "\n",
    "def negations (sentence):\n",
    "    '''\n",
    "    Turn negated words into cognitive synonyms. (Source: https://gist.github.com/UtkarshRedd/3fbfd354ea7a6f83bd8f9419a27b0543#file-negation_handler-py)\n",
    "    '''\n",
    "    temp = int(0)\n",
    "    for i in range(len(sentence)):\n",
    "        if sentence[i-1] in ['not',\"n't\"]:\n",
    "            antonyms = []\n",
    "            for syn in wordnet.synsets(sentence[i]):\n",
    "                syns = wordnet.synsets(sentence[i])\n",
    "                w1 = syns[0].name()\n",
    "                temp = 0\n",
    "                for l in syn.lemmas():\n",
    "                    if l.antonyms():\n",
    "                        antonyms.append(l.antonyms()[0].name())\n",
    "                max_dissimilarity = 0\n",
    "                for ant in antonyms:\n",
    "                    syns = wordnet.synsets(ant)\n",
    "                    w2 = syns[0].name()\n",
    "                    syns = wordnet.synsets(sentence[i])\n",
    "                    w1 = syns[0].name()\n",
    "                    word1 = wordnet.synset(w1)\n",
    "                    word2 = wordnet.synset(w2)\n",
    "                    if isinstance(word1.wup_similarity(word2), float) or isinstance(word1.wup_similarity(word2), int):\n",
    "                        temp = 1 - word1.wup_similarity(word2)\n",
    "                    if temp>max_dissimilarity:\n",
    "                        max_dissimilarity = temp\n",
    "                        antonym_max = ant\n",
    "                        sentence[i] = antonym_max\n",
    "                        sentence[i-1] = ''\n",
    "    while '' in sentence:\n",
    "        sentence.remove('')\n",
    "    return sentence"
   ]
  },
  {
   "attachments": {},
   "cell_type": "markdown",
   "metadata": {},
   "source": [
    "## Tokenization"
   ]
  },
  {
   "attachments": {},
   "cell_type": "markdown",
   "metadata": {},
   "source": [
    "Turn all tweets into tokens to handle them with more ease. A Token in this case is defined as a lower-cased word or a single punctuation."
   ]
  },
  {
   "cell_type": "code",
   "execution_count": 6,
   "metadata": {},
   "outputs": [],
   "source": [
    "from nltk.tokenize import word_tokenize\n",
    "\n",
    "def wordTokens (text):\n",
    "    '''\n",
    "    Create a list of lower-cased words and punctuations\n",
    "    '''\n",
    "    text = text.lower()\n",
    "    tokenized_word = word_tokenize(text)\n",
    "    return tokenized_word"
   ]
  },
  {
   "cell_type": "code",
   "execution_count": 7,
   "metadata": {},
   "outputs": [
    {
     "name": "stdout",
     "output_type": "stream",
     "text": [
      "['rt', '@', 'cnalive', ':', 'pranita', 'biswasi', ',', 'a', 'lutheran', 'from', 'odisha', ',', 'gives', 'testimony', 'on', 'effects', 'of', 'climate', 'change', '&', 'amp', ';', 'natural', 'disasters', 'on', 'the', 'poã¢â‚¬â¦']\n"
     ]
    }
   ],
   "source": [
    "tokenized_messages = []\n",
    "for message in dfMessages:\n",
    "    tokenized_message = wordTokens(message)\n",
    "    tokenized_messages.append(tokenized_message)\n",
    "print(tokenized_messages[4])"
   ]
  },
  {
   "cell_type": "code",
   "execution_count": null,
   "metadata": {},
   "outputs": [],
   "source": [
    "def bigrams (text):\n",
    "    '''\n",
    "    Tokenize texts as bigrams. Not Higher because it causes very\n",
    "    sparse feature vectors.\n",
    "    '''"
   ]
  },
  {
   "attachments": {},
   "cell_type": "markdown",
   "metadata": {},
   "source": [
    "### Data Plots"
   ]
  },
  {
   "attachments": {},
   "cell_type": "markdown",
   "metadata": {},
   "source": [
    "First we flatten the nested lists into a list that contains all the single tokens of all messages. This makes it possible to count how many times a token occures across all the messages."
   ]
  },
  {
   "cell_type": "code",
   "execution_count": 10,
   "metadata": {},
   "outputs": [
    {
     "name": "stdout",
     "output_type": "stream",
     "text": [
      "was\n"
     ]
    }
   ],
   "source": [
    "import itertools\n",
    "\n",
    "joined_tokens = list(itertools.chain.from_iterable(tokenized_messages))"
   ]
  },
  {
   "attachments": {},
   "cell_type": "markdown",
   "metadata": {},
   "source": [
    "To gain a overview on how our data looks like, we'll proceed to plot some of the data."
   ]
  },
  {
   "cell_type": "code",
   "execution_count": 23,
   "metadata": {},
   "outputs": [],
   "source": [
    "from nltk.probability import FreqDist\n",
    "import matplotlib.pyplot as plt\n",
    "import seaborn as sns\n",
    "import pandas as pd\n",
    "\n",
    "def plotOccurences(token_list):\n",
    "    fdist = FreqDist(token_list)\n",
    "    df_fdist = pd.DataFrame(fdist.items(), columns=['Token', 'Occurences'])\n",
    "    # fdist.plot(30,cumulative=False)\n",
    "    # plt.show()\n",
    "    df_fdist.head()\n",
    "    sns.set(font_scale = 1.3)\n",
    "    plt.figure(figsize=(5, 5))\n",
    "    plt.title(\"Top 20 Occurrences of Tokens in all messages\")\n",
    "    sns.set_style('darkgrid')\n",
    "    sns.barplot(x=\"Occurences\", y=\"Token\", data=df_fdist.sort_values('Occurences', ascending=False).head(20), palette=\"flare\")"
   ]
  },
  {
   "attachments": {},
   "cell_type": "markdown",
   "metadata": {},
   "source": [
    "#### Plot Raw Data"
   ]
  },
  {
   "cell_type": "code",
   "execution_count": 24,
   "metadata": {},
   "outputs": [
    {
     "data": {
      "image/png": "[encoded data removed]",
      "text/plain": [
       "<Figure size 500x500 with 1 Axes>"
      ]
     },
     "metadata": {},
     "output_type": "display_data"
    }
   ],
   "source": [
    "plotOccurences(joined_tokens)"
   ]
  },
  {
   "attachments": {},
   "cell_type": "markdown",
   "metadata": {},
   "source": [
    "# Feature Engineering"
   ]
  },
  {
   "attachments": {},
   "cell_type": "markdown",
   "metadata": {},
   "source": [
    "## Bag of Words"
   ]
  },
  {
   "cell_type": "code",
   "execution_count": 8,
   "metadata": {},
   "outputs": [
    {
     "name": "stdout",
     "output_type": "stream",
     "text": [
      "# beforetheflood watch # beforetheflood right here , as @ leodicaprio travels the world to tackle climate change ... https : //t.co/hcizrpuhlf\n"
     ]
    }
   ],
   "source": [
    "from sklearn.feature_extraction.text import CountVectorizer\n",
    "sentences = []\n",
    "for tweet in tokenized_messages:\n",
    "\n",
    "    sentence  = ' '.join(tweet)\n",
    "    sentences.append(sentence)\n",
    "cv = CountVectorizer(binary=True)\n",
    "print(sentences[9])\n",
    "cv.fit(sentences)\n",
    "vectorizedMessages = cv.transform(sentences)"
   ]
  },
  {
   "attachments": {},
   "cell_type": "markdown",
   "metadata": {},
   "source": [
    "## Tf-Idf"
   ]
  },
  {
   "attachments": {},
   "cell_type": "markdown",
   "metadata": {},
   "source": [
    "# Model Development"
   ]
  },
  {
   "cell_type": "code",
   "execution_count": 9,
   "metadata": {},
   "outputs": [],
   "source": [
    "from sklearn import metrics\n",
    "\n",
    "def evaluateModel(model, X_test, y_test, title):\n",
    "    '''\n",
    "    print out classification scores\n",
    "    :param model: used model\n",
    "    :param X_test:\n",
    "    :param y_test:\n",
    "    :param title: title of the model\n",
    "    '''\n",
    "    print(\"\\n*** \" + title + \" ***\")\n",
    "    predictions = model.predict(X_test)\n",
    "    accuracy = metrics.accuracy_score(y_test, predictions)\n",
    "    recall = metrics.recall_score(y_test, predictions, average='weighted')\n",
    "    precision = metrics.precision_score(y_test, predictions, average='weighted')\n",
    "    f1 = metrics.f1_score(y_test, predictions, average='weighted')\n",
    "\n",
    "    clsScoreDict = {\n",
    "        \"accuracy\": accuracy\n",
    "        , \"recall\": recall\n",
    "        , \"precision\": precision\n",
    "        , \"f1\": f1\n",
    "    }\n",
    "\n",
    "    print(\"Accuracy:  \" + str(accuracy))\n",
    "    print(\"Precision: \" + str(precision))\n",
    "    print(\"Recall:    \" + str(recall))\n",
    "    print(\"F1:        \" + str(f1))\n",
    "    print(\"\\n\\n\")\n",
    "\n",
    "    return clsScoreDict"
   ]
  },
  {
   "attachments": {},
   "cell_type": "markdown",
   "metadata": {},
   "source": [
    "### Split Dataset"
   ]
  },
  {
   "cell_type": "code",
   "execution_count": 10,
   "metadata": {},
   "outputs": [],
   "source": [
    "from sklearn.model_selection import train_test_split\n",
    "\n",
    "target = df['sentiment']\n",
    "X = vectorizedMessages\n",
    "\n",
    "X_train, X_test, y_train, y_test = train_test_split(\n",
    "        X, target, train_size=0.75\n",
    "    )"
   ]
  },
  {
   "attachments": {},
   "cell_type": "markdown",
   "metadata": {},
   "source": [
    "## Logistic Regression"
   ]
  },
  {
   "cell_type": "code",
   "execution_count": 36,
   "metadata": {},
   "outputs": [
    {
     "name": "stdout",
     "output_type": "stream",
     "text": [
      "\n",
      "*** LogisticRegression ***\n",
      "Accuracy:  0.740123793919534\n",
      "Precision: 0.7362025847429119\n",
      "Recall:    0.740123793919534\n",
      "F1:        0.7353891870356344\n",
      "\n",
      "\n",
      "\n"
     ]
    },
    {
     "name": "stderr",
     "output_type": "stream",
     "text": [
      "/home/freddy/.local/lib/python3.8/site-packages/sklearn/linear_model/_logistic.py:458: ConvergenceWarning: lbfgs failed to converge (status=1):\n",
      "STOP: TOTAL NO. of ITERATIONS REACHED LIMIT.\n",
      "\n",
      "Increase the number of iterations (max_iter) or scale the data as shown in:\n",
      "    https://scikit-learn.org/stable/modules/preprocessing.html\n",
      "Please also refer to the documentation for alternative solver options:\n",
      "    https://scikit-learn.org/stable/modules/linear_model.html#logistic-regression\n",
      "  n_iter_i = _check_optimize_result(\n"
     ]
    }
   ],
   "source": [
    "from sklearn.linear_model import LogisticRegression\n",
    "\n",
    "model = LogisticRegression()\n",
    "clfModel = model.fit(X_train, y_train)\n",
    "clsScoreDict = evaluateModel(clfModel, X_test, y_test, 'LogisticRegression')"
   ]
  },
  {
   "attachments": {},
   "cell_type": "markdown",
   "metadata": {},
   "source": [
    "## Naive Bayes Classifier"
   ]
  },
  {
   "cell_type": "code",
   "execution_count": 11,
   "metadata": {},
   "outputs": [
    {
     "name": "stdout",
     "output_type": "stream",
     "text": [
      "\n",
      "*** LogisticRegression ***\n",
      "Accuracy:  0.4832514108865829\n",
      "Precision: 0.5732034499640579\n",
      "Recall:    0.4832514108865829\n",
      "F1:        0.5010217819991687\n",
      "\n",
      "\n",
      "\n"
     ]
    }
   ],
   "source": [
    "from sklearn.naive_bayes import GaussianNB\n",
    "\n",
    "gnb = GaussianNB()\n",
    "nbModel = gnb.fit(X_train.toarray(), y_train)\n",
    "nbScores = evaluateModel(nbModel, X_test.toarray(), y_test, 'LogisticRegression')"
   ]
  },
  {
   "attachments": {},
   "cell_type": "markdown",
   "metadata": {},
   "source": [
    "# Model Evaluation"
   ]
  }
 ],
 "metadata": {
  "kernelspec": {
   "display_name": "Python 3",
   "language": "python",
   "name": "python3"
  },
  "language_info": {
   "codemirror_mode": {
    "name": "ipython",
    "version": 3
   },
   "file_extension": ".py",
   "mimetype": "text/x-python",
   "name": "python",
   "nbconvert_exporter": "python",
   "pygments_lexer": "ipython3",
   "version": "3.10.2"
  },
  "orig_nbformat": 4
 },
 "nbformat": 4,
 "nbformat_minor": 2
}
